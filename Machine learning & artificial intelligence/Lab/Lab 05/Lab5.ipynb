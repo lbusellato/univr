{
  "nbformat": 4,
  "nbformat_minor": 0,
  "metadata": {
    "colab": {
      "name": "Lab5.ipynb",
      "provenance": [],
      "collapsed_sections": []
    },
    "kernelspec": {
      "name": "python3",
      "display_name": "Python 3"
    }
  },
  "cells": [
    {
      "cell_type": "markdown",
      "source": [
        "# Multiclass SVM\n",
        "Implement the One-vs-Rest version of the SVM classifier to distinguish classes in the MNIST dataset. Evaluate the classifier by calculating the confusion matrix, and from this, calculate accuracy, precision and recall. Try a different number of iterations and changing the kernel. Comment on the results.\n"
      ],
      "metadata": {
        "id": "ylV1nxdMKZUE"
      }
    },
    {
      "cell_type": "code",
      "source": [
        "import numpy as np\n",
        "from sklearn import datasets\n",
        "from sklearn.svm import SVC\n",
        "from sklearn.model_selection import train_test_split\n",
        "from matplotlib import pyplot as plt\n",
        "from sklearn.metrics import confusion_matrix, accuracy_score, precision_score, recall_score"
      ],
      "metadata": {
        "id": "dBdtfU8_Kata"
      },
      "execution_count": null,
      "outputs": []
    },
    {
      "cell_type": "code",
      "source": [
        "# Load the dataset using scikit-learn: https://scikit-learn.org/stable/datasets/toy_dataset.html\n",
        "digits = datasets.load_digits()\n",
        "\n",
        "# Flatten the images\n",
        "n_samples = len(digits.images) # 1437 x 8 x 8 x 5 x 12\n",
        "data = digits.images.reshape((n_samples, -1))\n",
        "print(data.shape)\n",
        "\n",
        "# 80-20 train-test split\n",
        "x_train, x_test, y_train, y_test = train_test_split(\n",
        "    data, digits.target, test_size=0.2, shuffle=False\n",
        ")\n",
        "\n",
        "# How many objects and features?\n",
        "x_train.shape, x_test.shape"
      ],
      "metadata": {
        "id": "CDaYWwVRKUHE",
        "colab": {
          "base_uri": "https://localhost:8080/"
        },
        "outputId": "5972399d-031a-4e03-dc74-94148849a68b"
      },
      "execution_count": null,
      "outputs": [
        {
          "output_type": "stream",
          "name": "stdout",
          "text": [
            "(1797, 64)\n"
          ]
        },
        {
          "output_type": "execute_result",
          "data": {
            "text/plain": [
              "((1437, 64), (360, 64))"
            ]
          },
          "metadata": {},
          "execution_count": 2
        }
      ]
    },
    {
      "cell_type": "code",
      "metadata": {
        "id": "U-sOSnBTq15v",
        "colab": {
          "base_uri": "https://localhost:8080/"
        },
        "outputId": "d2885135-5598-4b95-dcf2-8532c249b5a3"
      },
      "source": [
        "# Manually implement One vs Rest \n",
        "\n",
        "# Initialise parameters\n",
        "kernel = 'linear'\n",
        "max_iteration = 1000\n",
        "\n",
        "# Initialise an SVM classification model for each one of the 10 classes\n",
        "models = [SVC(kernel=kernel, max_iter=max_iteration, probability=True),\n",
        "          SVC(kernel=kernel, max_iter=max_iteration, probability=True),\n",
        "          SVC(kernel=kernel, max_iter=max_iteration, probability=True),\n",
        "          SVC(kernel=kernel, max_iter=max_iteration, probability=True),\n",
        "          SVC(kernel=kernel, max_iter=max_iteration, probability=True),\n",
        "          SVC(kernel=kernel, max_iter=max_iteration, probability=True),\n",
        "          SVC(kernel=kernel, max_iter=max_iteration, probability=True),\n",
        "          SVC(kernel=kernel, max_iter=max_iteration, probability=True),\n",
        "          SVC(kernel=kernel, max_iter=max_iteration, probability=True),\n",
        "          SVC(kernel=kernel, max_iter=max_iteration, probability=True)]\n",
        "\n",
        "#models = [SVC(kernel=kernel, max_iter=max_iteration, probability=True) for i in range (10)] # Even better\n",
        "\n",
        "\n",
        "# Train (fit in Sklearn slang) the models (P.S: this might take a while)\n",
        "for i in range(10):\n",
        "  models[i].fit(x_train, y_train==i)"
      ],
      "execution_count": null,
      "outputs": [
        {
          "output_type": "stream",
          "name": "stderr",
          "text": [
            "/usr/local/lib/python3.7/dist-packages/sklearn/svm/_base.py:289: ConvergenceWarning: Solver terminated early (max_iter=1000).  Consider pre-processing your data with StandardScaler or MinMaxScaler.\n",
            "  ConvergenceWarning,\n",
            "/usr/local/lib/python3.7/dist-packages/sklearn/svm/_base.py:289: ConvergenceWarning: Solver terminated early (max_iter=1000).  Consider pre-processing your data with StandardScaler or MinMaxScaler.\n",
            "  ConvergenceWarning,\n",
            "/usr/local/lib/python3.7/dist-packages/sklearn/svm/_base.py:289: ConvergenceWarning: Solver terminated early (max_iter=1000).  Consider pre-processing your data with StandardScaler or MinMaxScaler.\n",
            "  ConvergenceWarning,\n",
            "/usr/local/lib/python3.7/dist-packages/sklearn/svm/_base.py:289: ConvergenceWarning: Solver terminated early (max_iter=1000).  Consider pre-processing your data with StandardScaler or MinMaxScaler.\n",
            "  ConvergenceWarning,\n",
            "/usr/local/lib/python3.7/dist-packages/sklearn/svm/_base.py:289: ConvergenceWarning: Solver terminated early (max_iter=1000).  Consider pre-processing your data with StandardScaler or MinMaxScaler.\n",
            "  ConvergenceWarning,\n",
            "/usr/local/lib/python3.7/dist-packages/sklearn/svm/_base.py:289: ConvergenceWarning: Solver terminated early (max_iter=1000).  Consider pre-processing your data with StandardScaler or MinMaxScaler.\n",
            "  ConvergenceWarning,\n",
            "/usr/local/lib/python3.7/dist-packages/sklearn/svm/_base.py:289: ConvergenceWarning: Solver terminated early (max_iter=1000).  Consider pre-processing your data with StandardScaler or MinMaxScaler.\n",
            "  ConvergenceWarning,\n"
          ]
        }
      ]
    },
    {
      "cell_type": "code",
      "metadata": {
        "colab": {
          "base_uri": "https://localhost:8080/",
          "height": 456
        },
        "id": "ytfXyYIYZzyT",
        "outputId": "6783cde1-6a86-4e30-a0f0-1b2a3e07b5d7"
      },
      "source": [
        "# Classify (make predictions) the data of the testing set and build the confusion matrix\n",
        "predicted_scores = []\n",
        "for i in range(10):\n",
        "  predicted_scores.append(models[i].predict_proba(x_test)[:,1])\n",
        "\n",
        "predicted_scores = np.asarray(predicted_scores)\n",
        "predicted = np.argmax(predicted_scores,axis=0)\n",
        "\n",
        "conf_mat = confusion_matrix(y_test, predicted)\n",
        "\n",
        "# Print and then perform and imshow of the confusion matrix\n",
        "from matplotlib import pyplot as plt\n",
        "print(conf_mat)\n",
        "plt.imshow(conf_mat)\n",
        "plt.colorbar()\n",
        "plt.xlabel(\"Predicted\")\n",
        "plt.xticks([0,1,2,3,4,5,6,7,8,9],[\"0\",\"1\",\"2\",\"3\",\"4\",\"5\",\"6\",\"7\",\"8\",\"9\"])\n",
        "plt.yticks([0,1,2,3,4,5,6,7,8,9], [\"0\",\"1\",\"2\",\"3\",\"4\",\"5\",\"6\",\"7\",\"8\",\"9\"])\n",
        "plt.ylabel(\"Real\")\n",
        "plt.show()"
      ],
      "execution_count": null,
      "outputs": [
        {
          "output_type": "stream",
          "name": "stdout",
          "text": [
            "[[33  0  0  0  1  0  1  0  0  0]\n",
            " [ 0 28  0  0  0  0  0  0  2  6]\n",
            " [ 0  0 35  0  0  0  0  0  0  0]\n",
            " [ 0  2  1 27  0  3  0  2  2  0]\n",
            " [ 0  1  0  0 34  0  0  0  1  1]\n",
            " [ 0  1  0  0  0 36  0  0  0  0]\n",
            " [ 0  1  0  0  0  0 35  0  1  0]\n",
            " [ 0  1  0  0  0  0  0 31  4  0]\n",
            " [ 0  2  0  1  0  0  0  0 30  0]\n",
            " [ 0  1  0  3  0  0  0  0  2 31]]\n"
          ]
        },
        {
          "output_type": "display_data",
          "data": {
            "text/plain": [
              "<Figure size 432x288 with 2 Axes>"
            ],
            "image/png": "[encoded data removed]"
          },
          "metadata": {
            "needs_background": "light"
          }
        }
      ]
    },
    {
      "cell_type": "code",
      "metadata": {
        "colab": {
          "base_uri": "https://localhost:8080/"
        },
        "id": "ni_A18Q_Z_0F",
        "outputId": "06617f8c-f599-4a4d-d0af-aae0f14d54a5"
      },
      "source": [
        "# Manually calculate accuracy, precision and recall (of the whole classifier) from the confusion matrix\n",
        "accuracy = np.sum(conf_mat.diagonal())/np.sum(conf_mat)\n",
        "\n",
        "precision = []\n",
        "recall = []\n",
        "for i in range(10):\n",
        "  precision.append(conf_mat[i,i]/ np.sum(conf_mat[:,i]))\n",
        "  recall.append(conf_mat[i,i]/ np.sum(conf_mat[i,:]))\n",
        "\n",
        "precision = np.mean(np.asarray(precision))\n",
        "recall  = np.mean(np.asarray(recall))\n",
        "\n",
        "print('Classifier accuracy: ' + \"{0:.2f}\".format(accuracy*100) + '%')\n",
        "print('Classifier precision: ' + \"{0:.2f}\".format(precision))\n",
        "print('Classifier recall: ' + \"{0:.2f}\".format(recall))"
      ],
      "execution_count": null,
      "outputs": [
        {
          "output_type": "stream",
          "name": "stdout",
          "text": [
            "Classifier accuracy: 88.89%\n",
            "Classifier precision: 0.89\n",
            "Classifier recall: 0.89\n"
          ]
        }
      ]
    },
    {
      "cell_type": "code",
      "metadata": {
        "colab": {
          "base_uri": "https://localhost:8080/"
        },
        "id": "KYUfxnlgaWvz",
        "outputId": "ab89a29d-e96c-4cd1-81c5-0ffd85945293"
      },
      "source": [
        "# Use sklearn to calculate the accuracy, precision and recall (of the whole classifier)\n",
        "\n",
        "# Hint: in sklearn, when dealing with multiclass problems, you need to specify the type of \n",
        "# averaging for the precision and recall metrics. What we did before can be simulated with \n",
        "# average='macro', but if you want say a weighted mean you can use average='weighted'.\n",
        "accuracy = accuracy_score(y_test, predicted)\n",
        "precision = precision_score(y_test, predicted, average='macro')\n",
        "recall = recall_score(y_test, predicted, average='macro')\n",
        "\n",
        "print('Classifier accuracy (sklearn): ' + \"{0:.2f}\".format(accuracy*100) + '%')\n",
        "print('Classifier precision (sklearn): ' + \"{0:.2f}\".format(precision))\n",
        "print('Classifier recall (sklearn): ' + \"{0:.2f}\".format(recall))"
      ],
      "execution_count": null,
      "outputs": [
        {
          "output_type": "stream",
          "name": "stdout",
          "text": [
            "Classifier accuracy (sklearn): 88.89%\n",
            "Classifier precision (sklearn): 0.89\n",
            "Classifier recall (sklearn): 0.89\n"
          ]
        }
      ]
    },
    {
      "cell_type": "markdown",
      "metadata": {
        "id": "ddFNj4SUPg88"
      },
      "source": [
        "FYI: You can implement a OnevsRest classifier in a much simpler way by using Sklearn's API: https://scikit-learn.org/stable/modules/generated/sklearn.multiclass.OneVsRestClassifier.html\n",
        "\n",
        "Give it a look if you have some time."
      ]
    },
    {
      "cell_type": "code",
      "source": [
        ""
      ],
      "metadata": {
        "id": "PkEAOy8rPNAO"
      },
      "execution_count": null,
      "outputs": []
    }
  ]
}