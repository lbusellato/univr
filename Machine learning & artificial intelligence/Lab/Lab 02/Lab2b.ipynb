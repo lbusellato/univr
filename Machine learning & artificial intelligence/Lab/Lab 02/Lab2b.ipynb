{
  "nbformat": 4,
  "nbformat_minor": 0,
  "metadata": {
    "colab": {
      "name": "Lab2_2.ipynb",
      "provenance": [],
      "collapsed_sections": []
    },
    "kernelspec": {
      "name": "python3",
      "display_name": "Python 3"
    }
  },
  "cells": [
    {
      "cell_type": "code",
      "metadata": {
        "id": "Tp2vB-WzJt1e",
        "colab": {
          "base_uri": "https://localhost:8080/",
          "height": 282
        },
        "outputId": "9cdc49c7-19b1-4774-ca86-d7bf7bcf1b6e"
      },
      "source": [
        "# Exercise 1 - Bayes decision theory\n",
        "import math\n",
        "import numpy as np\n",
        "import matplotlib.pyplot as plt\n",
        "from scipy.stats import multivariate_normal\n",
        "\n",
        "# Load the files data.npy and labels.npy in Colab and then into memory. \n",
        "data = np.load('data.npy')\n",
        "labels = np.load('labels.npy')\n",
        "# data represents a 150 (#objects) x 2 (#features) matrix\n",
        "\n",
        "# 2. Extract three different sub-matrices:\n",
        "# - Ojects of class 1 (labels = 1)\n",
        "# - Objects of class 2 (labels = 2)\n",
        "# - Objects of class 3 (labels = 3)\n",
        "\n",
        "w1 = data[labels==1]\n",
        "w2 = data[labels==2]\n",
        "w3 = data[labels==3]\n",
        "\n",
        "# 3. Show a scatterplot of the data by assigning a different color to each sub-matrix\n",
        "\n",
        "plt.scatter(w1[:,0], w1[:,1], color=\"r\",label=\"w1\")\n",
        "plt.scatter(w2[:,0], w2[:,1], color=\"g\",label=\"w2\")\n",
        "plt.scatter(w3[:,0], w3[:,1], color=\"b\",label=\"w3\")\n",
        "plt.legend()\n",
        "\n",
        "# 4. For each of the classes, keep 40 cases as training data, and 10 cases as testing data\n",
        "\n",
        "w1_training = w1[:40]\n",
        "w2_training = w2[:40]\n",
        "w3_training = w3[:40]\n",
        "\n",
        "train = np.zeros((150,))\n",
        "train[:40]  = 1\n",
        "train[50:90] = 1\n",
        "train[100:140] = 1\n",
        "train_labels = labels[train == 1]\n",
        "w_sample = data[train == 0]\n",
        "w_labels = labels[train == 0]\n",
        "\n",
        "# 5. Calculate the mean and covariance matrix for each of the training data of the 3 classes. \n",
        "# WARNING: the mean of each class must be a vector with 2 elements, the covariance matrix a 2x2 matrix.\n",
        "# Hint: use numpy.cov for the covariance matrix (check the docs for details)\n",
        "# https://numpy.org/doc/stable/reference/generated/numpy.cov.html\n",
        "\n",
        "w1_mean = np.mean(w1_training,axis=0)\n",
        "w2_mean = np.mean(w2_training,axis=0)\n",
        "w3_mean = np.mean(w3_training,axis=0)\n",
        "w1_cov = np.cov(w1_training.T)\n",
        "w2_cov = np.cov(w2_training.T)\n",
        "w3_cov = np.cov(w3_training.T)\n",
        "\n",
        "# 6. Considering P as a multivariate normal density and using the probabilities \n",
        "# extracted from the training set, apply Bayes' decision rule to each point in \n",
        "# the testing set, assuming the priors are equivalent and equal to 1/3. \n",
        "# Slide 9 can help you here.\n",
        "\n",
        "p_w1_x = multivariate_normal.pdf(w_sample, w1_mean, w1_cov)\n",
        "p_w2_x = multivariate_normal.pdf(w_sample, w2_mean, w1_cov)\n",
        "p_w3_x = multivariate_normal.pdf(w_sample, w3_mean, w1_cov)\n",
        "\n",
        "# 7. Calculate the number of correctly classified points with respect to the \n",
        "# real classes (aka accuracy)\n",
        "p_wi_x = np.concatenate([p_w1_x[:,np.newaxis],p_w2_x[:,np.newaxis],p_w3_x[:,np.newaxis]],axis=-1) \n",
        "predicted_labels = np.argmax(p_wi_x, axis=-1) + 1    # Argmax returns the index of the biggest element from 0, the labels start at 1 \n",
        "accuracy = np.sum(predicted_labels == w_labels) / np.shape(w_sample)[0]\n",
        "print(\"Accuracy:\", accuracy)"
      ],
      "execution_count": 18,
      "outputs": [
        {
          "output_type": "stream",
          "name": "stdout",
          "text": [
            "Accuracy: 1.0\n"
          ]
        },
        {
          "output_type": "display_data",
          "data": {
            "text/plain": [
              "<Figure size 432x288 with 1 Axes>"
            ],
            "image/png": "[encoded data removed]"
          },
          "metadata": {
            "needs_background": "light"
          }
        }
      ]
    },
    {
      "cell_type": "code",
      "metadata": {
        "id": "Rx41ZLyaKSKV",
        "colab": {
          "base_uri": "https://localhost:8080/"
        },
        "outputId": "a799ecd4-1603-4521-ef6b-501e1e6c2c4b"
      },
      "source": [
        "# Exercise 2 - Bayes decision theory\n",
        "\n",
        "# Consider the data from the previous exercise!\n",
        "# Re-do steps 6 and 7 by varying the priors P(w1),P(w2), and P(w3):\n",
        "# a) P(w1) = 0.5 ,P(w2) = 0.4 ,P(w3) = 0.1\n",
        "# b) P(w1) = 0.25 ,P(w2) = 0.5 ,P(w3) = 0.25\n",
        "#\n",
        "# What do you think about the new accuracy values? What happened?\n",
        "\n",
        "#a)\n",
        "p_w1_x = multivariate_normal.pdf(w_sample,w1_mean,w1_cov) * 0.5\n",
        "p_w2_x = multivariate_normal.pdf(w_sample,w2_mean,w2_cov) * 0.4\n",
        "p_w3_x = multivariate_normal.pdf(w_sample,w3_mean,w3_cov) * 0.1\n",
        "\n",
        "p_wi_x = np.concatenate([p_w1_x[:,np.newaxis],p_w2_x[:,np.newaxis],p_w3_x[:,np.newaxis]],axis=-1) \n",
        "predicted_labels = np.argmax(p_wi_x, axis=-1) + 1   \n",
        "print(predicted_labels)\n",
        "\n",
        "accuracy = np.sum(predicted_labels == w_labels) / np.shape(w_sample)[0]\n",
        "print(\"Case a:\" ,accuracy)\n",
        "\n",
        "#b)\n",
        "p_w1_x = multivariate_normal.pdf(w_sample,w1_mean,w1_cov) * 0.25\n",
        "p_w2_x = multivariate_normal.pdf(w_sample,w2_mean,w2_cov) * 0.5\n",
        "p_w3_x = multivariate_normal.pdf(w_sample,w3_mean,w3_cov) * 0.25\n",
        "\n",
        "p_wi_x = np.concatenate([p_w1_x[:,np.newaxis],p_w2_x[:,np.newaxis],p_w3_x[:,np.newaxis]],axis=-1) \n",
        "predicted_labels = np.argmax(p_wi_x, axis=-1) + 1  \n",
        "print(predicted_labels)\n",
        "\n",
        "accuracy = np.sum(predicted_labels == w_labels) / np.shape(w_sample)[0]\n",
        "print(\"Case b:\" ,accuracy)\n"
      ],
      "execution_count": 19,
      "outputs": [
        {
          "output_type": "stream",
          "name": "stdout",
          "text": [
            "[1 1 1 1 1 1 1 1 1 1 2 2 2 2 2 2 2 2 2 2 3 2 3 3 3 3 3 3 3 3]\n",
            "Case a: 0.9666666666666667\n",
            "[1 1 1 1 1 1 1 1 1 1 2 2 2 2 2 2 2 2 2 2 3 3 3 3 3 3 3 3 3 3]\n",
            "Case b: 1.0\n"
          ]
        }
      ]
    },
    {
      "cell_type": "code",
      "metadata": {
        "id": "YqBfvezhfFZG",
        "colab": {
          "base_uri": "https://localhost:8080/",
          "height": 387
        },
        "outputId": "f7efbf2e-75f8-4eb1-bd5a-1cb7d51a4d04"
      },
      "source": [
        "# EXERCISE 3 - Discriminant Functions\n",
        "\n",
        "# Consider the data from the first exercise\n",
        "\n",
        "# 1. Display an imshow of the covariance matrices and figure out in which of the\n",
        "# 3 cases we are (use arguments vmin=-0.5 and vmax=0.5 to set a fixed color range:\n",
        "# -- Diagonal\n",
        "# -- Equal\n",
        "# -- Arbitrary\n",
        "# 2. Compute the function g(x) and rank the points in the testing set using the \n",
        "# parameters trained on the training set (mu, sigma). (use the priors from exercise 1) \n",
        "# Hint: pay attention to the size of the matrices\n",
        "# 3. Verify performance in terms of accuracy\n",
        "\n",
        "\n",
        "#1\n",
        "fig, ax = plt.subplots(3)\n",
        "ax[0].imshow(w1_cov, vmin=-0.5, vmax=0.5)\n",
        "print(w1_cov)\n",
        "ax[1].imshow(w2_cov, vmin=-0.5, vmax=0.5)\n",
        "print(w2_cov)\n",
        "ax[2].imshow(w3_cov, vmin=-0.5, vmax=0.5)\n",
        "print(w3_cov)\n",
        "plt.show()\n",
        "\n",
        "#2\n",
        "g1x = []\n",
        "g2x = []\n",
        "g3x = []\n",
        "for i in range(w_sample.shape[0]):\n",
        "  g1x.append(-1/2*((w_sample[i,:]-w1_mean).T).dot(np.linalg.inv(w1_cov)).dot((w_sample[i,:]-w1_mean)) - (2/2)*np.log(2*np.pi)- 1/2 * np.log(np.linalg.det(w1_cov)) + np.log(1/3))\n",
        "  g2x.append(-1/2*((w_sample[i,:]-w2_mean).T).dot(np.linalg.inv(w2_cov)).dot((w_sample[i,:]-w2_mean)) - (2/2)*np.log(2*np.pi)- 1/2 * np.log(np.linalg.det(w2_cov)) + np.log(1/3))\n",
        "  g3x.append(-1/2*((w_sample[i,:]-w3_mean).T).dot(np.linalg.inv(w3_cov)).dot((w_sample[i,:]-w3_mean)) - (2/2)*np.log(2*np.pi)- 1/2 * np.log(np.linalg.det(w3_cov)) + np.log(1/3))\n",
        "\n",
        "\n",
        "#3\n",
        "gx = np.concatenate([np.array(g1x)[:,np.newaxis],np.array(g2x)[:,np.newaxis], np.array(g3x)[:,np.newaxis]],axis=-1)\n",
        "predicted_labels = np.argmax(gx,axis=-1) + 1\n",
        "\n",
        "#4 \n",
        "accuracy = np.sum(predicted_labels == w_labels) / np.shape(w_sample)[0]\n",
        "print(\"Accuracy:\" ,accuracy)\n"
      ],
      "execution_count": 20,
      "outputs": [
        {
          "output_type": "stream",
          "name": "stdout",
          "text": [
            "[[ 0.04838414 -0.05315818]\n",
            " [-0.05315818  0.21666689]]\n",
            "[[ 0.33771065 -0.19599353]\n",
            " [-0.19599353  0.19793824]]\n",
            "[[ 0.57554229 -0.31934425]\n",
            " [-0.31934425  0.26698707]]\n"
          ]
        },
        {
          "output_type": "display_data",
          "data": {
            "text/plain": [
              "<Figure size 432x288 with 3 Axes>"
            ],
            "image/png": "[encoded data removed]"
          },
          "metadata": {
            "needs_background": "light"
          }
        },
        {
          "output_type": "stream",
          "name": "stdout",
          "text": [
            "Accuracy: 1.0\n"
          ]
        }
      ]
    },
    {
      "cell_type": "code",
      "metadata": {
        "id": "GSufpqTBgmfl",
        "colab": {
          "base_uri": "https://localhost:8080/",
          "height": 300
        },
        "outputId": "7b402280-941f-4c5c-91f0-01795a681847"
      },
      "source": [
        "# EXERCISE 4 - Discriminant Functions\n",
        "\n",
        "# Consider the data from the first exercise\n",
        "\n",
        "# 1. Set the covariance matrices equal to the identity matrix and sigma^2 = 1\n",
        "# 2. Compute the function g(x) and rank the points in the testing set using the parameters trained on the training set (mu, Sigma). (use the priors from exercise 1)\n",
        "# 3. Check performance in terms of accuracy. Can you explain the reason in the change in performance?\n",
        "# 4. Calculate parameters w and x0 for decision boundaries between classes 1 and 2, 2 and 3, 1 and 3\n",
        "# 5. Make a scatter of the data from the 3 classes and also plot the decision boundaries\n",
        "\n",
        "cov1_2 = np.eye(2,2)\n",
        "cov2_2 = np.eye(2,2)\n",
        "cov3_2 = np.eye(2,2)\n",
        "\n",
        "\n",
        "#2\n",
        "g1x = []\n",
        "g2x = []\n",
        "g3x = []\n",
        "for i in range(w_sample.shape[0]):\n",
        "  # Slide 10\n",
        "  g1x.append((((1/1)*w1_mean).T).dot(w_sample[i,:]) - 1/(2*1)*(w1_mean.T).dot(w1_mean) + np.log(1/3))\n",
        "  g2x.append((((1/1)*w2_mean).T).dot(w_sample[i,:]) - 1/(2*1)*(w2_mean.T).dot(w2_mean) + np.log(1/3))\n",
        "  g3x.append((((1/1)*w3_mean).T).dot(w_sample[i,:]) - 1/(2*1)*(w3_mean.T).dot(w3_mean) + np.log(1/3))\n",
        "\n",
        "\n",
        "#3\n",
        "gx = np.concatenate([np.array(g1x)[:,np.newaxis],np.array(g2x)[:,np.newaxis], np.array(g3x)[:,np.newaxis]],axis=-1)\n",
        "predicted_labels = np.argmax(gx,axis=-1) + 1\n",
        "\n",
        "#4 \n",
        "accuracy = np.sum(predicted_labels == w_labels) / np.shape(w_sample)[0]\n",
        "print(\"Accuracy:\" ,accuracy)\n",
        "\n",
        "\n",
        "#5\n",
        "w_1 = w1_mean - w2_mean\n",
        "x0_1 = 1/2* (w1_mean+w2_mean) - (1/np.linalg.norm(w1_mean-w2_mean,ord=2))*np.log(1)*(w1_mean-w2_mean)\n",
        "print(x0_1)\n",
        "w_2 = w2_mean - w3_mean\n",
        "x0_2 = 1/2* (w2_mean+w3_mean) - (1/np.linalg.norm(w2_mean-w3_mean,ord=2))*np.log(1)*(w2_mean-w3_mean)\n",
        "w_3 = w1_mean - w3_mean\n",
        "x0_3 = 1/2* (w1_mean+w3_mean) - (1/np.linalg.norm(w1_mean-w3_mean,ord=2))*np.log(1)*(w1_mean-w3_mean)\n",
        "\n",
        "#6\n",
        "x = []\n",
        "y1 = []\n",
        "y2 = []\n",
        "y3 = []\n",
        "for c in range(-3,4,1):\n",
        "  for r in range(-3,2,1):\n",
        "    x.append(np.array([c]))\n",
        "    y1.append(w_1.T.dot(np.array([c,r])-x0_1))\n",
        "    y2.append(w_2.T.dot(np.array([c,r])-x0_2))\n",
        "    y3.append(w_3.T.dot(np.array([c,r])-x0_3))\n",
        "x = np.array(x)\n",
        "y1 = np.array(y1)\n",
        "y2 = np.array(y2)\n",
        "y3 = np.array(y3)\n",
        "\n",
        "plt.plot(x,y1,'y')\n",
        "plt.plot(x,y2,'k')\n",
        "plt.plot(x,y3,'m')\n",
        "plt.scatter(w1[:,0],w1[:,1],c='r')\n",
        "plt.scatter(w2[:,0],w2[:,1],c='g')\n",
        "plt.scatter(w3[:,0],w3[:,1],c='b')\n",
        "plt.ylim((-2.5,2.5))\n",
        "\n",
        "plt.show()\n"
      ],
      "execution_count": 21,
      "outputs": [
        {
          "output_type": "stream",
          "name": "stdout",
          "text": [
            "Accuracy: 0.9333333333333333\n",
            "[-1.01043972 -0.01416463]\n"
          ]
        },
        {
          "output_type": "display_data",
          "data": {
            "text/plain": [
              "<Figure size 432x288 with 1 Axes>"
            ],
            "image/png": "[encoded data removed]"
          },
          "metadata": {
            "needs_background": "light"
          }
        }
      ]
    },
    {
      "cell_type": "code",
      "metadata": {
        "id": "RXAJfTEliUZ3",
        "colab": {
          "base_uri": "https://localhost:8080/",
          "height": 282
        },
        "outputId": "34295935-5a9f-4658-8f88-f4e229510e9a"
      },
      "source": [
        "# EXERCISE 5 - Discriminant Functions\n",
        "\n",
        "# 1. Set the covariance matrices equal to the covariance matrix for class 1 \n",
        "# 2. Compute the function g(x) and rank the points in the testing set using the parameters trained on the training set (mu, Sigma). (use the priors from exercise 1)\n",
        "# 3. Verify performance in terms of accuracy\n",
        "# 4. Compute the parameters w and x0 for the decision boundaries between classes 1 and 2, 2 and 3, 1 and 3\n",
        "# 5. Make a scatter of the data from the 3 classes and plot the decision boundaries as well. \n",
        "\n",
        "# Where does our classifier make the most mistakes?\n",
        "\n",
        "\n",
        "cov1_3 = w1_cov\n",
        "cov2_3 = w2_cov\n",
        "cov3_3 = w3_cov\n",
        "\n",
        "\n",
        "#2\n",
        "g1x = []\n",
        "g2x = []\n",
        "g3x = []\n",
        "for i in range(w_sample.shape[0]):\n",
        "  # Slide 11\n",
        "  g1x.append(np.linalg.inv(cov1_3).dot(w1_mean).dot(w_sample[i,:]) - 1/2*w1_mean.T.dot(np.linalg.inv(cov1_3)).dot(w1_mean) + np.log(1/3))\n",
        "  g2x.append(np.linalg.inv(cov2_3).dot(w2_mean).dot(w_sample[i,:]) - 1/2*w2_mean.T.dot(np.linalg.inv(cov2_3)).dot(w2_mean) + np.log(1/3))\n",
        "  g3x.append(np.linalg.inv(cov3_3).dot(w3_mean).dot(w_sample[i,:]) - 1/2*w3_mean.T.dot(np.linalg.inv(cov3_3)).dot(w3_mean) + np.log(1/3))\n",
        "\n",
        "\n",
        "#3\n",
        "gx = np.concatenate([np.array(g1x)[:,np.newaxis],np.array(g2x)[:,np.newaxis], np.array(g3x)[:,np.newaxis]],axis=-1)\n",
        "predicted_labels = np.argmax(gx,axis=-1) + 1\n",
        "\n",
        "#4 \n",
        "accuracy = np.sum(predicted_labels == w_labels) / np.shape(w_sample)[0]\n",
        "print(\"Accuracy:\" ,accuracy)\n",
        "\n",
        "\n",
        "#5\n",
        "w_1 = np.linalg.inv(cov1_3).dot(w1_mean - w2_mean)\n",
        "x0_1 = 1/2* (w1_mean+w2_mean) - np.log(1)/((w1_mean-w2_mean).T.dot(np.linalg.inv(cov1_3)).dot(w1_mean-w2_mean))*(w1_mean-w2_mean)\n",
        "\n",
        "w_2 = np.linalg.inv(cov1_3).dot(w2_mean - w3_mean)\n",
        "x0_2 = 1/2* (w2_mean+w3_mean) - np.log(1)/((w2_mean-w3_mean).T.dot(np.linalg.inv(cov1_3)).dot(w2_mean-w3_mean))*(w2_mean-w3_mean)\n",
        "\n",
        "w_3 = np.linalg.inv(cov1_3).dot(w1_mean - w3_mean)\n",
        "x0_3 = 1/2* (w1_mean+w3_mean) - np.log(1)/((w1_mean-w3_mean).T.dot(np.linalg.inv(cov1_3)).dot(w1_mean-w3_mean))*(w1_mean-w3_mean)\n",
        "\n",
        "#6\n",
        "x = []\n",
        "y1 = []\n",
        "y2 = []\n",
        "y3 = []\n",
        "for c in range(-3,4,1):\n",
        "  for r in range(-3,2,1):\n",
        "    x.append(np.array([c]))\n",
        "    y1.append(w_1.T.dot(np.array([c,r])-x0_1))\n",
        "    y2.append(w_2.T.dot(np.array([c,r])-x0_2))\n",
        "    y3.append(w_3.T.dot(np.array([c,r])-x0_3))\n",
        "x = np.array(x)\n",
        "y1 = np.array(y1)\n",
        "y2 = np.array(y2)\n",
        "y3 = np.array(y3)\n",
        "\n",
        "plt.plot(x,y1,'y')\n",
        "plt.plot(x,y2,'k')\n",
        "plt.plot(x,y3,'m')\n",
        "plt.scatter(w1[:,0],w1[:,1],c='r')\n",
        "plt.scatter(w2[:,0],w2[:,1],c='g')\n",
        "plt.scatter(w3[:,0],w3[:,1],c='b')\n",
        "plt.ylim((-2.5,2.5))\n",
        "plt.show()\n"
      ],
      "execution_count": 22,
      "outputs": [
        {
          "output_type": "stream",
          "name": "stdout",
          "text": [
            "Accuracy: 0.8666666666666667\n"
          ]
        },
        {
          "output_type": "display_data",
          "data": {
            "text/plain": [
              "<Figure size 432x288 with 1 Axes>"
            ],
            "image/png": "[encoded data removed]"
          },
          "metadata": {
            "needs_background": "light"
          }
        }
      ]
    }
  ]
}